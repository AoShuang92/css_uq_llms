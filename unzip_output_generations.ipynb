{
 "cells": [
  {
   "cell_type": "code",
   "execution_count": 3,
   "id": "4526cbae",
   "metadata": {},
   "outputs": [
    {
     "name": "stdout",
     "output_type": "stream",
     "text": [
      "UQ-NLG/output_generations.zip\r\n"
     ]
    }
   ],
   "source": [
    "!ls UQ-NLG/output_generations.zip"
   ]
  },
  {
   "cell_type": "code",
   "execution_count": 5,
   "id": "9300e36f",
   "metadata": {},
   "outputs": [],
   "source": [
    "import zipfile\n",
    "path_to_zip_file = 'UQ-NLG/output_generations.zip'\n",
    "directory_to_extract_to = 'UQ-NLG'\n",
    "with zipfile.ZipFile(path_to_zip_file, 'r') as zip_ref:\n",
    "    zip_ref.extractall(directory_to_extract_to)"
   ]
  },
  {
   "cell_type": "code",
   "execution_count": 8,
   "id": "63cad144",
   "metadata": {},
   "outputs": [
    {
     "name": "stdout",
     "output_type": "stream",
     "text": [
      "gpt-3.5-turbo-0301_coqa_10\tllama-13b-hf_coqa_10\t  opt-13b_coqa_10\r\n",
      "gpt-3.5-turbo-0301_nq_open_10\tllama-13b-hf_nq_open_10   opt-13b_nq_open_10\r\n",
      "gpt-3.5-turbo-0301_triviaqa_10\tllama-13b-hf_triviaqa_10  opt-13b_triviaqa_10\r\n"
     ]
    }
   ],
   "source": [
    "!ls UQ-NLG/output_generations"
   ]
  },
  {
   "cell_type": "code",
   "execution_count": 15,
   "id": "2f070a37",
   "metadata": {},
   "outputs": [],
   "source": [
    "import pandas as pd\n",
    "data_path = 'UQ-NLG/output_generations/opt-13b_coqa_10/0.pkl'\n",
    "demo_data = pd.read_pickle(data_path)"
   ]
  },
  {
   "cell_type": "code",
   "execution_count": 16,
   "id": "a83ffbf0",
   "metadata": {},
   "outputs": [
    {
     "data": {
      "text/plain": [
       "(7983,\n",
       " {'prompt': tensor([    2, 11475,  2115,    10,    86,     6,    11,    10, 15909,   583,\n",
       "             10,  3380,   790,     6,    89,  3033,    10,   410,  1104, 35292,\n",
       "           1440, 15416,     4, 15416,  3033,   239,    62,    11,    10,  2579,\n",
       "           3279,   317,  1065,     5, 15909,   147,    70,     9,     5, 10305,\n",
       "             18,  8087, 17931,     4,   125, 15416,   938,    75,  1937,    11,\n",
       "             69,   410,   184,  1065,     5, 15909,     6, 14223,   117,     4,\n",
       "            264,  1373,    69, 13460,  3267,    19,    69,  3795,  4783,     8,\n",
       "            195,    97,  7502,     4,   404,     9,    69,  7502,    58, 11962,\n",
       "              8, 33564,     6,   101, 15416,     4,   125,    79,    21,     5,\n",
       "            129,  1104,    65,    11,     5,  6900,     4,    20,  1079,     9,\n",
       "             69,  7502,    58,    70,  8978,    19,  2721,  1104, 23921, 26224,\n",
       "            101, 15416,    18,  3795,  4783,     4,  8374,   430,   156, 15416,\n",
       "           1341,  5074,     4,   264,   747, 14594,    79,  1415,   101,     5,\n",
       "           1079,     9,    69,   284,     4,   407,    65,   183,     6,    77,\n",
       "          15416,   303,    10,    64,     9,     5,   793, 10305,    18,  8978,\n",
       "           6345,     6,    79,   341,    24,     7,  6345,  2864,   101,   106,\n",
       "              4,   520,    69,  3795,  4783,     8,  7502,   303,    69,    51,\n",
       "            554, 11339,     4,  1437, 50118, 50118,   113,  2264,    32,    47,\n",
       "            608,     6, 15416, 43775,  1437, 50118, 50118,   113,   100,   129,\n",
       "            770,     7,    28,    55,   101,    47,   845,  1437, 50118, 50118,\n",
       "            347, 41921,    18,  3795,  4783, 34737,    69,   652,    15, 15416,\n",
       "             18,     8,    26,    22,  7516, 15416,     6,    53,   110, 15503,\n",
       "             16,    98,  1256,     8,   780,     6,   101,    47,     4,   166,\n",
       "             74,   393,   236,    47,     7,    28,   143,    97,   169,   845,\n",
       "            178,    19,    14,     6, 15416,    18,  3795,  4783,  2738,    69,\n",
       "             62,     8,  1882,    69,    88,    10,   380, 14792,     9,   514,\n",
       "              4,   520, 15416,   376,    66,    79,    21,  2864,   456,     4,\n",
       "           1405,  7502,   784, 14851,    69,   652,   454, 15416,    18, 15503,\n",
       "             21,    70,    70,  3841,     4,  1437, 50118, 50118,   113,  6766,\n",
       "             75,   655,   109,    14,   456,     6, 15416,  2901,    51,    70,\n",
       "          16670,     4,    22, 19192,    86,    47,   429,  7319,    62,    14,\n",
       "           1256,  1104, 15503,     9, 14314,     8,    52,  1979,    75,   236,\n",
       "             14,  2901,  1437, 50118, 50118, 12948, 15416,   802,     6,    22,\n",
       "            100,   464,   127,  1508,     4,    38,   101,   145,   780,   845,\n",
       "           1209,    35,   653,  3195,    21, 15416,   116,    83,    35]),\n",
       "  'id': '3dr23u6we5exclen4th8uq9rb42tel_0',\n",
       "  'question': 'What color was Cotton?',\n",
       "  'answer': 'white',\n",
       "  'additional_answers': [],\n",
       "  'most_likely_generation_ids': tensor([735,   4]),\n",
       "  'generations_ids': tensor([[ 5726,     8,  1104,     4,     2,     2,     2,     2,     2,     2,\n",
       "               2,     2,     2,     2,     2,     2,     2,     2,     2,     2,\n",
       "               2,     2,     2,     2,     2,     2,     2],\n",
       "          [  735,  1209,    35,   653,   156, 15416,    98,   780,   116,    83,\n",
       "              35,   264,    21,    10,   430,  3195,     4,     2,     2,     2,\n",
       "               2,     2,     2,     2,     2,     2,     2],\n",
       "          [  264,    21,  5718,   328,  1437,  1209,    35,   264,  1714,    69,\n",
       "            1508,     6,   653,    21,    98,   780,    59,    69,   116,    83,\n",
       "              35,   646, 23638, 15673,   742,  1437, 50118],\n",
       "          [ 5726,    19,  1104, 26224,     4,     2,     2,     2,     2,     2,\n",
       "               2,     2,     2,     2,     2,     2,     2,     2,     2,     2,\n",
       "               2,     2,     2,     2,     2,     2,     2],\n",
       "          [  735,     6,     9,   768,     4,     2,     2,     2,     2,     2,\n",
       "               2,     2,     2,     2,     2,     2,     2,     2,     2,     2,\n",
       "               2,     2,     2,     2,     2,     2,     2],\n",
       "          [  735,   328, 50118,     2,     2,     2,     2,     2,     2,     2,\n",
       "               2,     2,     2,     2,     2,     2,     2,     2,     2,     2,\n",
       "               2,     2,     2,     2,     2,     2,     2],\n",
       "          [ 3201,   219,  1104,     4,     2,     2,     2,     2,     2,     2,\n",
       "               2,     2,     2,     2,     2,     2,     2,     2,     2,     2,\n",
       "               2,     2,     2,     2,     2,     2,     2],\n",
       "          [ 5726,  1209,    35,   653,   473, 13178,  1266,   116,    83,    35,\n",
       "              85,    16,    10,   761,     9, 10199,     4,     2,     2,     2,\n",
       "               2,     2,     2,     2,     2,     2,     2],\n",
       "          [15416,    21,     5,  3195, 13178,     4,     2,     2,     2,     2,\n",
       "               2,     2,     2,     2,     2,     2,     2,     2,     2,     2,\n",
       "               2,     2,     2,     2,     2,     2,     2],\n",
       "          [12011,     4,     2,     2,     2,     2,     2,     2,     2,     2,\n",
       "               2,     2,     2,     2,     2,     2,     2,     2,     2,     2,\n",
       "               2,     2,     2,     2,     2,     2,     2],\n",
       "          [ 9291,    97,    87,  1104,     4,     2,     2,     2,     2,     2,\n",
       "               2,     2,     2,     2,     2,     2,     2,     2,     2,     2,\n",
       "               2,     2,     2,     2,     2,     2,     2],\n",
       "          [ 5726,   734,  3341,    10, 23611,     2,     2,     2,     2,     2,\n",
       "               2,     2,     2,     2,     2,     2,     2,     2,     2,     2,\n",
       "               2,     2,     2,     2,     2,     2,     2],\n",
       "          [  370,    40,   192,    11,    10,  2289, 17220, 50118,     2,     2,\n",
       "               2,     2,     2,     2,     2,     2,     2,     2,     2,     2,\n",
       "               2,     2,     2,     2,     2,     2,     2],\n",
       "          [  735,     8, 15416,  2442,    14,   169,     4,     2,     2,     2,\n",
       "               2,     2,     2,     2,     2,     2,     2,     2,     2,     2,\n",
       "               2,     2,     2,     2,     2,     2,     2],\n",
       "          [  735,     4,     2,     2,     2,     2,     2,     2,     2,     2,\n",
       "               2,     2,     2,     2,     2,     2,     2,     2,     2,     2,\n",
       "               2,     2,     2,     2,     2,     2,     2],\n",
       "          [ 5726,     2,     2,     2,     2,     2,     2,     2,     2,     2,\n",
       "               2,     2,     2,     2,     2,     2,     2,     2,     2,     2,\n",
       "               2,     2,     2,     2,     2,     2,     2],\n",
       "          [   20,   235,  1948,    16,    35,   735,     4,     2,     2,     2,\n",
       "               2,     2,     2,     2,     2,     2,     2,     2,     2,     2,\n",
       "               2,     2,     2,     2,     2,     2,     2],\n",
       "          [  735,     4,     2,     2,     2,     2,     2,     2,     2,     2,\n",
       "               2,     2,     2,     2,     2,     2,     2,     2,     2,     2,\n",
       "               2,     2,     2,     2,     2,     2,     2],\n",
       "          [ 5726,     6,     9,   768,     4,     2,     2,     2,     2,     2,\n",
       "               2,     2,     2,     2,     2,     2,     2,     2,     2,     2,\n",
       "               2,     2,     2,     2,     2,     2,     2],\n",
       "          [  735,  7423,   384,  4324,  1210,   118, 50118,     2,     2,     2,\n",
       "               2,     2,     2,     2,     2,     2,     2,     2,     2,     2,\n",
       "               2,     2,     2,     2,     2,     2,     2]]),\n",
       "  'most_likely_generation': ' White.',\n",
       "  'generations': [' Orange and white.',\n",
       "   ' White Q: What made Cotton so special? A: She was a different color.',\n",
       "   ' She was yellow!  Q: She changed her mind, What was so special about her? A: [Twinkle] \\n',\n",
       "   ' Orange with white stripes.',\n",
       "   ' White, of course.',\n",
       "   ' White!\\n',\n",
       "   ' Watery white.',\n",
       "   ' Orange Q: What does cotton mean? A: It is a kind of fabric.',\n",
       "   ' Cotton was the color cotton.',\n",
       "   ' Pink.',\n",
       "   ' None other than white.',\n",
       "   ' Orange...like a banana',\n",
       "   ' You will see in a minute....\\n',\n",
       "   ' White and Cotton remained that way.',\n",
       "   ' White.',\n",
       "   ' Orange',\n",
       "   ' The right answer is: White.',\n",
       "   ' White.',\n",
       "   ' Orange, of course.',\n",
       "   ' White Rachel Ouaizi\\n']})"
      ]
     },
     "execution_count": 16,
     "metadata": {},
     "output_type": "execute_result"
    }
   ],
   "source": [
    "len(demo_data), demo_data[0]"
   ]
  },
  {
   "cell_type": "code",
   "execution_count": null,
   "id": "c4b2dba9",
   "metadata": {},
   "outputs": [],
   "source": []
  }
 ],
 "metadata": {
  "kernelspec": {
   "display_name": "Python 3 (ipykernel)",
   "language": "python",
   "name": "python3"
  },
  "language_info": {
   "codemirror_mode": {
    "name": "ipython",
    "version": 3
   },
   "file_extension": ".py",
   "mimetype": "text/x-python",
   "name": "python",
   "nbconvert_exporter": "python",
   "pygments_lexer": "ipython3",
   "version": "3.10.14"
  }
 },
 "nbformat": 4,
 "nbformat_minor": 5
}
